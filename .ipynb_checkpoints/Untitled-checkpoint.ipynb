{
 "cells": [
  {
   "cell_type": "markdown",
   "id": "greater-result",
   "metadata": {},
   "source": [
    "# This is a heading of the first level"
   ]
  },
  {
   "cell_type": "code",
   "execution_count": 1,
   "id": "damaged-testament",
   "metadata": {},
   "outputs": [],
   "source": [
    "var showMe = null"
   ]
  },
  {
   "cell_type": "markdown",
   "id": "criminal-native",
   "metadata": {},
   "source": [
    "## This is so second level"
   ]
  },
  {
   "cell_type": "code",
   "execution_count": 2,
   "id": "framed-world",
   "metadata": {},
   "outputs": [
    {
     "name": "stdout",
     "output_type": "stream",
     "text": [
      "3\n"
     ]
    }
   ],
   "source": [
    "showMe = 3"
   ]
  },
  {
   "cell_type": "code",
   "execution_count": 3,
   "id": "antique-spider",
   "metadata": {},
   "outputs": [
    {
     "name": "stdout",
     "output_type": "stream",
     "text": [
      "3\n"
     ]
    }
   ],
   "source": [
    "showMe++"
   ]
  },
  {
   "cell_type": "code",
   "execution_count": 4,
   "id": "color-multimedia",
   "metadata": {},
   "outputs": [
    {
     "name": "stdout",
     "output_type": "stream",
     "text": [
      "4\n"
     ]
    }
   ],
   "source": [
    "showMe"
   ]
  },
  {
   "cell_type": "code",
   "execution_count": 5,
   "id": "several-atlanta",
   "metadata": {},
   "outputs": [],
   "source": [
    "const _empty = ['one', 'two', 'three', 'four']"
   ]
  },
  {
   "cell_type": "code",
   "execution_count": null,
   "id": "designed-analyst",
   "metadata": {},
   "outputs": [],
   "source": []
  },
  {
   "cell_type": "code",
   "execution_count": 7,
   "id": "extraordinary-caribbean",
   "metadata": {},
   "outputs": [
    {
     "name": "stdout",
     "output_type": "stream",
     "text": [
      "one\n",
      "two\n",
      "three\n",
      "four\n",
      "[ undefined, undefined, undefined, undefined ]\n"
     ]
    }
   ],
   "source": [
    "_empty.map(_i => console.log(_i))"
   ]
  },
  {
   "cell_type": "code",
   "execution_count": 8,
   "id": "personal-mobility",
   "metadata": {},
   "outputs": [
    {
     "name": "stdout",
     "output_type": "stream",
     "text": [
      "hoi\n"
     ]
    }
   ],
   "source": [
    "const logme = (_i) => (console.log(_i))\n",
    "\n",
    "logme('hoi')"
   ]
  },
  {
   "cell_type": "code",
   "execution_count": 10,
   "id": "junior-roots",
   "metadata": {},
   "outputs": [
    {
     "name": "stdout",
     "output_type": "stream",
     "text": [
      "3\n"
     ]
    }
   ],
   "source": [
    "logme(1 + 2)"
   ]
  },
  {
   "cell_type": "code",
   "execution_count": 11,
   "id": "equal-monthly",
   "metadata": {},
   "outputs": [
    {
     "name": "stdout",
     "output_type": "stream",
     "text": [
      "[ 'one', 'two', 'three', 'four' ]\n"
     ]
    }
   ],
   "source": [
    "logme(_empty)"
   ]
  },
  {
   "cell_type": "code",
   "execution_count": null,
   "id": "arranged-ethernet",
   "metadata": {},
   "outputs": [],
   "source": []
  }
 ],
 "metadata": {
  "kernelspec": {
   "display_name": "JavaScript",
   "language": "javascript",
   "name": "jslab"
  },
  "language_info": {
   "file_extension": ".js",
   "mimetype": "text/javascript",
   "name": "javascript",
   "version": ""
  }
 },
 "nbformat": 4,
 "nbformat_minor": 5
}
