{
 "cells": [
  {
   "cell_type": "markdown",
   "id": "excited-graduation",
   "metadata": {},
   "source": [
    "# This is a heading of the first level"
   ]
  },
  {
   "cell_type": "code",
   "execution_count": 1,
   "id": "earned-glucose",
   "metadata": {},
   "outputs": [],
   "source": [
    "var showMe = null"
   ]
  },
  {
   "cell_type": "markdown",
   "id": "remarkable-passage",
   "metadata": {},
   "source": [
    "## This is so second level"
   ]
  },
  {
   "cell_type": "code",
   "execution_count": 2,
   "id": "lesbian-clone",
   "metadata": {},
   "outputs": [
    {
     "name": "stdout",
     "output_type": "stream",
     "text": [
      "3\n"
     ]
    }
   ],
   "source": [
    "showMe = 3"
   ]
  },
  {
   "cell_type": "code",
   "execution_count": 3,
   "id": "specialized-tunnel",
   "metadata": {},
   "outputs": [
    {
     "name": "stdout",
     "output_type": "stream",
     "text": [
      "3\n"
     ]
    }
   ],
   "source": [
    "showMe++"
   ]
  },
  {
   "cell_type": "code",
   "execution_count": 4,
   "id": "biological-toronto",
   "metadata": {},
   "outputs": [
    {
     "name": "stdout",
     "output_type": "stream",
     "text": [
      "4\n"
     ]
    }
   ],
   "source": [
    "showMe"
   ]
  },
  {
   "cell_type": "code",
   "execution_count": 5,
   "id": "christian-large",
   "metadata": {},
   "outputs": [],
   "source": [
    "const _empty = ['one', 'two', 'three', 'four']"
   ]
  },
  {
   "cell_type": "code",
   "execution_count": null,
   "id": "wooden-macintosh",
   "metadata": {},
   "outputs": [],
   "source": []
  },
  {
   "cell_type": "code",
   "execution_count": 7,
   "id": "ordinary-strategy",
   "metadata": {},
   "outputs": [
    {
     "name": "stdout",
     "output_type": "stream",
     "text": [
      "one\n",
      "two\n",
      "three\n",
      "four\n",
      "[ undefined, undefined, undefined, undefined ]\n"
     ]
    }
   ],
   "source": [
    "_empty.map(_i => console.log(_i))"
   ]
  },
  {
   "cell_type": "code",
   "execution_count": 8,
   "id": "moderate-service",
   "metadata": {},
   "outputs": [
    {
     "name": "stdout",
     "output_type": "stream",
     "text": [
      "hoi\n"
     ]
    }
   ],
   "source": [
    "const logme = (_i) => (console.log(_i))\n",
    "\n",
    "logme('hoi')"
   ]
  },
  {
   "cell_type": "code",
   "execution_count": 10,
   "id": "mobile-truck",
   "metadata": {},
   "outputs": [
    {
     "name": "stdout",
     "output_type": "stream",
     "text": [
      "3\n"
     ]
    }
   ],
   "source": [
    "logme(1 + 2)"
   ]
  },
  {
   "cell_type": "code",
   "execution_count": 11,
   "id": "neural-income",
   "metadata": {},
   "outputs": [
    {
     "name": "stdout",
     "output_type": "stream",
     "text": [
      "[ 'one', 'two', 'three', 'four' ]\n"
     ]
    }
   ],
   "source": [
    "logme(_empty)"
   ]
  },
  {
   "cell_type": "code",
   "execution_count": null,
   "id": "acoustic-printing",
   "metadata": {},
   "outputs": [],
   "source": []
  }
 ],
 "metadata": {
  "kernelspec": {
   "display_name": "JavaScript",
   "language": "javascript",
   "name": "jslab"
  },
  "language_info": {
   "file_extension": ".js",
   "mimetype": "text/javascript",
   "name": "javascript",
   "version": ""
  }
 },
 "nbformat": 4,
 "nbformat_minor": 5
}
